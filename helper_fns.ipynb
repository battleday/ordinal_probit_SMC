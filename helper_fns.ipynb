{
 "cells": [
  {
   "cell_type": "code",
   "execution_count": 1,
   "id": "286c9f2a",
   "metadata": {},
   "outputs": [
    {
     "name": "stderr",
     "output_type": "stream",
     "text": [
      "...../var/folders/z3/65sxpv5n3csdhfzm0ysx30940000gp/T/ipykernel_44459/1777929584.py:117: RuntimeWarning: divide by zero encountered in log\n",
      "  LP += np.log(sigma_prior(sigma, lower_0, upper_0, printing, debug))\n",
      "/var/folders/z3/65sxpv5n3csdhfzm0ysx30940000gp/T/ipykernel_44459/1777929584.py:373: RuntimeWarning: divide by zero encountered in log\n",
      "  real_LP = np.sum(np.log(probs))\n",
      ".....\n",
      "----------------------------------------------------------------------\n",
      "Ran 10 tests in 0.009s\n",
      "\n",
      "OK\n"
     ]
    }
   ],
   "source": [
    "import unittest"
   ]
  },
  {
   "cell_type": "markdown",
   "id": "f3a84d76",
   "metadata": {},
   "source": [
    "## Likelihood functions and checks\n",
    "This notebook is to be used as a submodule that contains wrappers for all the likelihood functions used by the ordinal probit model for survey data, and Metropolis-Hastings sampler. There is also an optional testing suite."
   ]
  },
  {
   "cell_type": "code",
   "execution_count": 1,
   "id": "04445b36",
   "metadata": {},
   "outputs": [],
   "source": [
    "def initialize_suite(TestCase):\n",
    "    loader = unittest.TestLoader()\n",
    "    suite = loader.loadTestsFromTestCase(TestCase)\n",
    "    return suite \n",
    "\n",
    "def print_fn(nameAndVarList, n=2):\n",
    "    newList = [nameAndVarList[i:i + n] for i in range(0, len(nameAndVarList), n)]\n",
    "    for name, var in newList:\n",
    "        print('\\n {} has value {}'.format(name, var))"
   ]
  }
 ],
 "metadata": {
  "kernelspec": {
   "display_name": "Python 3 (ipykernel)",
   "language": "python",
   "name": "python3"
  },
  "language_info": {
   "codemirror_mode": {
    "name": "ipython",
    "version": 3
   },
   "file_extension": ".py",
   "mimetype": "text/x-python",
   "name": "python",
   "nbconvert_exporter": "python",
   "pygments_lexer": "ipython3",
   "version": "3.9.7"
  }
 },
 "nbformat": 4,
 "nbformat_minor": 5
}
