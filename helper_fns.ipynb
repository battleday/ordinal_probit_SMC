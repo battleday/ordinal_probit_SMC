{
 "cells": [
  {
   "cell_type": "code",
   "execution_count": 5,
   "id": "286c9f2a",
   "metadata": {},
   "outputs": [],
   "source": [
    "import unittest\n",
    "import matplotlib.pyplot as plt\n",
    "import matplotlib.pylab as pylab"
   ]
  },
  {
   "cell_type": "markdown",
   "id": "f3a84d76",
   "metadata": {},
   "source": [
    "## Likelihood functions and checks\n",
    "This notebook is to be used as a submodule that contains wrappers for all the likelihood functions used by the ordinal probit model for survey data, and Metropolis-Hastings sampler. There is also an optional testing suite."
   ]
  },
  {
   "cell_type": "code",
   "execution_count": 6,
   "id": "62eaa05c",
   "metadata": {},
   "outputs": [],
   "source": [
    "\n",
    "params = {'axes.labelsize': 20,\n",
    "         'axes.titlesize':26,\n",
    "         'xtick.labelsize':16,\n",
    "         'ytick.labelsize':16}\n",
    "pylab.rcParams.update(params)\n"
   ]
  },
  {
   "cell_type": "code",
   "execution_count": 1,
   "id": "04445b36",
   "metadata": {},
   "outputs": [
    {
     "ename": "IndentationError",
     "evalue": "expected an indented block (4198791194.py, line 31)",
     "output_type": "error",
     "traceback": [
      "\u001b[0;36m  File \u001b[0;32m\"/var/folders/z3/65sxpv5n3csdhfzm0ysx30940000gp/T/ipykernel_76743/4198791194.py\"\u001b[0;36m, line \u001b[0;32m31\u001b[0m\n\u001b[0;31m    square_len = int(np.ceil(np.sqrt(len(stimuliParsed))))\u001b[0m\n\u001b[0m    ^\u001b[0m\n\u001b[0;31mIndentationError\u001b[0m\u001b[0;31m:\u001b[0m expected an indented block\n"
     ]
    }
   ],
   "source": [
    "def initialize_suite(TestCase):\n",
    "    loader = unittest.TestLoader()\n",
    "    suite = loader.loadTestsFromTestCase(TestCase)\n",
    "    return suite \n",
    "\n",
    "def print_fn(nameAndVarList, n=2):\n",
    "    newList = [nameAndVarList[i:i + n] for i in range(0, len(nameAndVarList), n)]\n",
    "    for name, var in newList:\n",
    "        print('\\n {} has value {}'.format(name, var))\n",
    "        \n",
    "def clean_data(load_path): \n",
    "    movieData = []\n",
    "    with open(path) as c:\n",
    "        read = csv.reader(c)\n",
    "        for i, row in enumerate(read):\n",
    "            if i < 2:\n",
    "                continue\n",
    "            movieData.append(np.int_(row[2:]))\n",
    "\n",
    "        cleanData = np.array(movieData)\n",
    "        return cleanData\n",
    "    \n",
    "def save_cleaned_data(save_path, data):\n",
    "    \"\"\"Wrapper function.\"\"\"\n",
    "    np.save(save_path, cleanData)\n",
    "\n",
    "def load_cleaned_data(load_path):\n",
    "    return np.load(load_path)\n",
    "\n",
    "def plot_data(cleanData):\n",
    "    \"\"\"cleanData should contain counts for each question's answers, with answer scale / choices the same.\"\"\"\n",
    "    q, k = cleanData.shape\n",
    "    square_len = int(np.ceil(np.sqrt(q)))\n",
    "    fig, ax = plt.subplots(square_len, square_len, figsize=(square_len*4, square_len*2),\n",
    "                          sharex=True, sharey=True)\n",
    "\n",
    "    for i, counts in enumerate(cleanData):\n",
    "        x, y = np.unravel_index(i, (square_len, square_len))\n",
    "        ax[x, y].bar(np.arange(1, k+1), counts/np.sum(counts))\n",
    "        ax[x, y].set_title('Question {}; N={}'.format(i, np.sum(counts)))\n",
    "        if y % square_len == 0:\n",
    "            ax[x, y].set_ylabel('Proportion')\n",
    "        if x == square_len-1:\n",
    "            ax[x, y].set_xlabel('Choices')\n",
    "            try:\n",
    "                ax[x, y].set_x_ticklabels(np.arange(1, k+1))\n",
    "            except:\n",
    "                continue\n",
    "    plt.subplots_adjust(hspace=1.0)\n",
    "\n",
    "\n",
    "def sample_plot(samples, burn_in, slice_freq, save_path=None):\n",
    "    params = sorted(samples.keys())\n",
    "    fig, ax = plt.subplots(nrows = len(params), ncols=1, figsize=(30, 30), sharex=True)\n",
    "    xs = np.arange(0, len(samples[params[0]][0]))* slice_freq # to scale xticklabels\n",
    "\n",
    "    for plot, param in enumerate(params):\n",
    "        MX = 0\n",
    "        mx = 0\n",
    "        for var in samples[param]:\n",
    "            MX = max(MX, max(var))\n",
    "            mx = min(mx, min(var))\n",
    "\n",
    "            ax[plot].plot(xs, var)\n",
    "        ax[plot].set_title('{}'.format(param))\n",
    "        ax[plot].set_ylabel('Param values')\n",
    "        _ = ax[plot].vlines(x=burn_in, ymin=mx, ymax=MX, colors='k')\n",
    "        \n",
    "    ax[plot].set_xlabel('Samples')"
   ]
  },
  {
   "cell_type": "code",
   "execution_count": null,
   "id": "312a870e",
   "metadata": {},
   "outputs": [],
   "source": []
  }
 ],
 "metadata": {
  "kernelspec": {
   "display_name": "Python 3 (ipykernel)",
   "language": "python",
   "name": "python3"
  },
  "language_info": {
   "codemirror_mode": {
    "name": "ipython",
    "version": 3
   },
   "file_extension": ".py",
   "mimetype": "text/x-python",
   "name": "python",
   "nbconvert_exporter": "python",
   "pygments_lexer": "ipython3",
   "version": "3.9.7"
  }
 },
 "nbformat": 4,
 "nbformat_minor": 5
}
